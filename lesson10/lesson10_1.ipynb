{
 "cells": [
  {
   "cell_type": "code",
   "execution_count": 3,
   "metadata": {},
   "outputs": [
    {
     "name": "stdout",
     "output_type": "stream",
     "text": [
      "False\n"
     ]
    }
   ],
   "source": [
    "file = open('names.txt',encoding='utf-8')\n",
    "file.close()\n"
   ]
  },
  {
   "cell_type": "code",
   "execution_count": 26,
   "metadata": {},
   "outputs": [
    {
     "name": "stdout",
     "output_type": "stream",
     "text": [
      "陳怡伶\n",
      "馮芳如\n",
      "蒙淑惠\n",
      "===========\n",
      "陳怡伶\n",
      "馮芳如\n",
      "蒙淑惠\n",
      "['陳怡伶', '馮芳如']\n",
      "['陳怡伶', '馮芳如', '蒙淑惠', '張軒宸', '陳向愛']\n",
      "['李淑芳', '謝南慧', '趙家豪', '龐皓芳', '張彥博']\n"
     ]
    }
   ],
   "source": [
    "with open('names.txt',encoding='utf-8') as file:\n",
    "    content:str = file.read()\n",
    "\n",
    "names:list[str] = content.split(sep='\\n')\n",
    "for name in names[:3]:\n",
    "    print(name)\n",
    "print(\"===========\")\n",
    "#subscript的語法\n",
    "print(names[0])\n",
    "print(names[1])\n",
    "print(names[2])\n",
    "print(names[0:2]) #slice\n",
    "print(names[:5]) #slice ->前5個\n",
    "print(names[-5:]) #slice->後5個"
   ]
  },
  {
   "cell_type": "code",
   "execution_count": 12,
   "metadata": {},
   "outputs": [
    {
     "name": "stdout",
     "output_type": "stream",
     "text": [
      "r o b e r t "
     ]
    }
   ],
   "source": [
    "for letter in 'robert':\n",
    "    print(letter, end=' ')"
   ]
  },
  {
   "cell_type": "code",
   "execution_count": 18,
   "metadata": {},
   "outputs": [
    {
     "name": "stdout",
     "output_type": "stream",
     "text": [
      "[]\n",
      "['a', 'b', 'c']\n",
      "[]\n",
      "['a', 'b', 'b']\n"
     ]
    }
   ],
   "source": [
    "#建立空的list,使用初始化\n",
    "print(list())\n",
    "print(list('abc'))\n",
    "\n",
    "#建立空的list,使用純值表示法\n",
    "print([])\n",
    "print(['a','b','c'])"
   ]
  },
  {
   "cell_type": "code",
   "execution_count": 30,
   "metadata": {},
   "outputs": [
    {
     "data": {
      "text/plain": [
       "['王良斌', '陳倩妮', '陳怡容']"
      ]
     },
     "execution_count": 30,
     "metadata": {},
     "output_type": "execute_result"
    }
   ],
   "source": [
    "import random\n",
    "with open('names.txt',encoding='utf-8') as file:\n",
    "    content:str = file.read()\n",
    "\n",
    "names:list[str] = content.split(sep='\\n')\n",
    "\n",
    "random.choices(population=names,k=3)\n"
   ]
  }
 ],
 "metadata": {
  "kernelspec": {
   "display_name": "Python 3",
   "language": "python",
   "name": "python3"
  },
  "language_info": {
   "codemirror_mode": {
    "name": "ipython",
    "version": 3
   },
   "file_extension": ".py",
   "mimetype": "text/x-python",
   "name": "python",
   "nbconvert_exporter": "python",
   "pygments_lexer": "ipython3",
   "version": "3.10.14"
  }
 },
 "nbformat": 4,
 "nbformat_minor": 2
}
