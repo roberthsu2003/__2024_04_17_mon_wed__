{
 "cells": [
  {
   "cell_type": "code",
   "execution_count": 3,
   "metadata": {},
   "outputs": [
    {
     "name": "stdout",
     "output_type": "stream",
     "text": [
      "Jone\n",
      "Smith\n",
      "42\n",
      "first_name='Jone' last_name='Smith' age=42\n"
     ]
    }
   ],
   "source": [
    "from pydantic import BaseModel\n",
    "\n",
    "class Person(BaseModel):\n",
    "    #field一定要有type hint\n",
    "    first_name:str\n",
    "    last_name:str\n",
    "    age:int\n",
    "\n",
    "p = Person(first_name=\"Jone\", last_name=\"Smith\", age=42)\n",
    "print(p.first_name)\n",
    "print(p.last_name)\n",
    "print(p.age)\n",
    "print(p)"
   ]
  }
 ],
 "metadata": {
  "kernelspec": {
   "display_name": "Python 3",
   "language": "python",
   "name": "python3"
  },
  "language_info": {
   "codemirror_mode": {
    "name": "ipython",
    "version": 3
   },
   "file_extension": ".py",
   "mimetype": "text/x-python",
   "name": "python",
   "nbconvert_exporter": "python",
   "pygments_lexer": "ipython3",
   "version": "3.10.14"
  }
 },
 "nbformat": 4,
 "nbformat_minor": 2
}
