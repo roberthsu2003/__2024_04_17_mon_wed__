{
 "cells": [
  {
   "cell_type": "markdown",
   "metadata": {},
   "source": [
    "#### 操作方式和DataClass一樣"
   ]
  },
  {
   "cell_type": "code",
   "execution_count": 3,
   "metadata": {},
   "outputs": [
    {
     "name": "stdout",
     "output_type": "stream",
     "text": [
      "Jone\n",
      "Smith\n",
      "42\n",
      "first_name='Jone' last_name='Smith' age=42\n"
     ]
    }
   ],
   "source": [
    "from pydantic import BaseModel\n",
    "\n",
    "class Person(BaseModel):\n",
    "    #field一定要有type hint\n",
    "    first_name:str\n",
    "    last_name:str\n",
    "    age:int\n",
    "p = Person(first_name=\"Jone\", last_name=\"Smith\", age=42)\n",
    "\n",
    "print(p.first_name)\n",
    "print(p.last_name)\n",
    "print(p.age)\n",
    "print(p)"
   ]
  },
  {
   "cell_type": "markdown",
   "metadata": {},
   "source": [
    "## dataclass做不到的\n",
    "- ### 驗證資料\n"
   ]
  },
  {
   "cell_type": "code",
   "execution_count": 4,
   "metadata": {},
   "outputs": [
    {
     "name": "stdout",
     "output_type": "stream",
     "text": [
      "first_name='Jone' last_name='Smith' age=42\n"
     ]
    }
   ],
   "source": [
    "p1 = Person(first_name=\"Jone\", last_name=\"Smith\", age=\"42\") #自動轉換型別\n",
    "print(p1)"
   ]
  },
  {
   "cell_type": "code",
   "execution_count": 7,
   "metadata": {},
   "outputs": [
    {
     "name": "stdout",
     "output_type": "stream",
     "text": [
      "1 validation error for Person\n",
      "age\n",
      "  Input should be a valid integer, unable to parse string as an integer [type=int_parsing, input_value='abc', input_type=str]\n",
      "    For further information visit https://errors.pydantic.dev/2.7/v/int_parsing\n"
     ]
    }
   ],
   "source": [
    "try:\n",
    "    p2 = Person(first_name=\"Jone\", last_name=\"Smith\", age=\"abc\") #自動轉換型別\n",
    "except Exception as error:\n",
    "    print(error)"
   ]
  },
  {
   "cell_type": "markdown",
   "metadata": {},
   "source": [
    "## 可以將純文字轉成pydantic實體\n",
    "- model_validate_json()"
   ]
  },
  {
   "cell_type": "code",
   "execution_count": 9,
   "metadata": {},
   "outputs": [
    {
     "name": "stdout",
     "output_type": "stream",
     "text": [
      "first_name='john' last_name='Smith' age=42\n"
     ]
    }
   ],
   "source": [
    "data_json = '''\n",
    "{\n",
    "    \"first_name\":\"john\",\n",
    "    \"last_name\":\"Smith\",\n",
    "    \"age\":\"42\"\n",
    "}\n",
    "'''\n",
    "p3 = Person.model_validate_json(data_json)\n",
    "print(p3)"
   ]
  },
  {
   "cell_type": "markdown",
   "metadata": {},
   "source": [
    "## 可以選擇需要的欄位"
   ]
  },
  {
   "cell_type": "code",
   "execution_count": 11,
   "metadata": {},
   "outputs": [
    {
     "name": "stdout",
     "output_type": "stream",
     "text": [
      "first_name='john' last_name='Smith' age=42\n"
     ]
    }
   ],
   "source": [
    "class Person(BaseModel):\n",
    "    #field一定要有type hint\n",
    "    first_name:str\n",
    "    last_name:str\n",
    "    age:int\n",
    "    \n",
    "data_json = '''\n",
    "{\n",
    "    \"first_name\":\"john\",\n",
    "    \"last_name\":\"Smith\",\n",
    "    \"age\":42,\n",
    "    \"height\":173\n",
    "}\n",
    "'''\n",
    "p4 = Person.model_validate_json(data_json)\n",
    "print(p4)"
   ]
  },
  {
   "cell_type": "markdown",
   "metadata": {},
   "source": [
    "## 可以設定取得的資料,如果沒有這個欄位,設定欄位預設值"
   ]
  },
  {
   "cell_type": "code",
   "execution_count": 13,
   "metadata": {},
   "outputs": [
    {
     "name": "stdout",
     "output_type": "stream",
     "text": [
      "first_name='john' last_name='Smith' age=0\n"
     ]
    }
   ],
   "source": [
    "class Person(BaseModel):\n",
    "    #field一定要有type hint\n",
    "    first_name:str #一定要有資料\n",
    "    last_name:str #一定要有資料\n",
    "    age:int = 0 #有預設的值\n",
    "\n",
    "data_json = '''\n",
    "{\n",
    "    \"first_name\":\"john\",\n",
    "    \"last_name\":\"Smith\"    \n",
    "}\n",
    "'''\n",
    "p4 = Person.model_validate_json(data_json)\n",
    "print(p4)"
   ]
  },
  {
   "cell_type": "code",
   "execution_count": 14,
   "metadata": {},
   "outputs": [
    {
     "name": "stdout",
     "output_type": "stream",
     "text": [
      "first_name='john' last_name='Smith' age=0 lucky_numbers=[]\n"
     ]
    }
   ],
   "source": [
    "class Person(BaseModel):\n",
    "    #field一定要有type hint\n",
    "    first_name:str #一定要有資料\n",
    "    last_name:str #一定要有資料\n",
    "    age:int = 0 #有預設的值\n",
    "    lucky_numbers:list[int] = []\n",
    "\n",
    "data_json = '''\n",
    "{\n",
    "    \"first_name\":\"john\",\n",
    "    \"last_name\":\"Smith\"    \n",
    "}\n",
    "'''\n",
    "p4 = Person.model_validate_json(data_json)\n",
    "print(p4)"
   ]
  },
  {
   "cell_type": "code",
   "execution_count": 16,
   "metadata": {},
   "outputs": [
    {
     "name": "stdout",
     "output_type": "stream",
     "text": [
      "first_name='john' last_name='Smith' age=0 lucky_numbers=[1, 2, 3, 4, 5]\n"
     ]
    }
   ],
   "source": [
    "class Person(BaseModel):\n",
    "    #field一定要有type hint\n",
    "    first_name:str #一定要有資料\n",
    "    last_name:str #一定要有資料\n",
    "    age:int = 0 #有預設的值\n",
    "    lucky_numbers:list[int] = []\n",
    "\n",
    "data_json = '''\n",
    "{\n",
    "    \"first_name\":\"john\",\n",
    "    \"last_name\":\"Smith\",\n",
    "    \"lucky_numbers\":[1,2,3,4,\"5\"]    \n",
    "}\n",
    "'''\n",
    "p4 = Person.model_validate_json(data_json)\n",
    "print(p4)"
   ]
  },
  {
   "cell_type": "code",
   "execution_count": 18,
   "metadata": {},
   "outputs": [
    {
     "name": "stdout",
     "output_type": "stream",
     "text": [
      "id_=100 first_name='John' last_name='Smith' age=42\n"
     ]
    }
   ],
   "source": [
    "data_json = '''\n",
    "{\n",
    "    \"id\":100,\n",
    "    \"First Name\":\"John\",\n",
    "    \"LASTNAME\":\"Smith\",\n",
    "    \"age in years\": 42    \n",
    "}\n",
    "'''\n",
    "\n",
    "from pydantic import BaseModel,Field\n",
    "\n",
    "class Person(BaseModel):\n",
    "    id_:int = Field(alias=\"id\")\n",
    "    first_name:str = Field(alias=\"First Name\")\n",
    "    last_name:str = Field(alias=\"LASTNAME\")\n",
    "    age:int = Field(alias=\"age in years\",default=0)\n",
    "\n",
    "p1 = Person.model_validate_json(data_json)\n",
    "print(p1)\n"
   ]
  },
  {
   "cell_type": "markdown",
   "metadata": {},
   "source": [
    "## 巢狀的Model"
   ]
  },
  {
   "cell_type": "code",
   "execution_count": 21,
   "metadata": {},
   "outputs": [
    {
     "name": "stdout",
     "output_type": "stream",
     "text": [
      "Lunar Colony\n",
      "Central City\n"
     ]
    }
   ],
   "source": [
    "data:str = '''\n",
    "{\n",
    "    \"firstName\": \"Arthur\",\n",
    "    \"lastName\": \"Clarke\",\n",
    "    \"born\":{\n",
    "        \"place\":{\n",
    "            \"country\":\"Lunar Colony\",\n",
    "            \"city\": \"Central City\"\n",
    "        },\n",
    "        \"date\":\"2001-01-01\"\n",
    "    }\n",
    "}\n",
    "'''\n",
    "from pydantic import BaseModel,Field\n",
    "class Place(BaseModel):\n",
    "    country:str\n",
    "    city:str\n",
    "\n",
    "class Born(BaseModel):\n",
    "    place:Place\n",
    "    date:str\n",
    "\n",
    "class Person(BaseModel):\n",
    "    first_name:str = Field(alias=\"firstName\")\n",
    "    last_name:str = Field(alias=\"lastName\")\n",
    "    born:Born\n",
    "\n",
    "p1 = Person.model_validate_json(data)\n",
    "print(p1.born.place.country)\n",
    "print(p1.born.place.city)"
   ]
  }
 ],
 "metadata": {
  "kernelspec": {
   "display_name": "Python 3",
   "language": "python",
   "name": "python3"
  },
  "language_info": {
   "codemirror_mode": {
    "name": "ipython",
    "version": 3
   },
   "file_extension": ".py",
   "mimetype": "text/x-python",
   "name": "python",
   "nbconvert_exporter": "python",
   "pygments_lexer": "ipython3",
   "version": "3.10.14"
  }
 },
 "nbformat": 4,
 "nbformat_minor": 2
}
