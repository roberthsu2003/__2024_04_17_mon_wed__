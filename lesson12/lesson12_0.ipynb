{
 "cells": [
  {
   "cell_type": "code",
   "execution_count": 3,
   "metadata": {},
   "outputs": [
    {
     "name": "stdout",
     "output_type": "stream",
     "text": [
      "name='Scott' website='stackabuse.com' from_='Nebraska'\n",
      "name='Larry' website='google.com' from_='Michigan'\n"
     ]
    }
   ],
   "source": [
    "from pydantic import BaseModel, Field\n",
    "\n",
    "class Person(BaseModel):\n",
    "    name: str\n",
    "    website: str\n",
    "    from_: str = Field(alias='from')\n",
    "\n",
    "\n",
    "class Data(BaseModel):\n",
    "    people: list[Person]\n",
    "\n",
    "\n",
    "with open('data.json', encoding='utf-8') as file:\n",
    "    constent:str = file.read()\n",
    "    data: Data= Data.model_validate_json(constent)\n",
    "\n",
    "data_list: list[Person] = data.people\n",
    "for item in data_list:\n",
    "    print(item)\n"
   ]
  },
  {
   "cell_type": "code",
   "execution_count": 7,
   "metadata": {},
   "outputs": [
    {
     "name": "stdout",
     "output_type": "stream",
     "text": [
      "{'people': [{'from_': 'Nebraska', 'name': 'Scott', 'website': 'stackabuse.com'},\n",
      "            {'from_': 'Michigan', 'name': 'Larry', 'website': 'google.com'}]}\n"
     ]
    }
   ],
   "source": [
    "from pprint import pprint\n",
    "\n",
    "data_dict:dict = data.model_dump()\n",
    "pprint(data_dict)"
   ]
  }
 ],
 "metadata": {
  "kernelspec": {
   "display_name": "Python 3",
   "language": "python",
   "name": "python3"
  },
  "language_info": {
   "codemirror_mode": {
    "name": "ipython",
    "version": 3
   },
   "file_extension": ".py",
   "mimetype": "text/x-python",
   "name": "python",
   "nbconvert_exporter": "python",
   "pygments_lexer": "ipython3",
   "version": "3.10.14"
  }
 },
 "nbformat": 4,
 "nbformat_minor": 2
}
