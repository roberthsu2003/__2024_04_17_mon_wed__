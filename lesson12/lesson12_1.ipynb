{
 "cells": [
  {
   "cell_type": "code",
   "execution_count": 2,
   "metadata": {},
   "outputs": [
    {
     "name": "stdout",
     "output_type": "stream",
     "text": [
      "123+456=579\n",
      "123*456=56088\n"
     ]
    }
   ],
   "source": [
    "#文件內自訂的function\n",
    "def add(a:int, b:int) -> int:\n",
    "    return a + b\n",
    "\n",
    "def multiply(n:int, m:int) -> int:\n",
    "    return n * m\n",
    "\n",
    "print(f'123+456={add(123, 456)}')\n",
    "print(f'123*456={multiply(123, 456)}')"
   ]
  },
  {
   "cell_type": "code",
   "execution_count": 3,
   "metadata": {},
   "outputs": [
    {
     "name": "stdout",
     "output_type": "stream",
     "text": [
      "123+456=579\n",
      "123*456=56088\n"
     ]
    }
   ],
   "source": [
    "class Tools():\n",
    "    @classmethod\n",
    "    def add(cls,a:int, b:int) -> int:\n",
    "        return a + b\n",
    "    \n",
    "    @classmethod\n",
    "    def multiply(cls,n:int, m:int) -> int:\n",
    "        return n * m\n",
    "    \n",
    "print(f'123+456={Tools.add(123, 456)}')\n",
    "print(f'123*456={Tools.multiply(123, 456)}')\n",
    "    \n"
   ]
  }
 ],
 "metadata": {
  "kernelspec": {
   "display_name": "Python 3",
   "language": "python",
   "name": "python3"
  },
  "language_info": {
   "codemirror_mode": {
    "name": "ipython",
    "version": 3
   },
   "file_extension": ".py",
   "mimetype": "text/x-python",
   "name": "python",
   "nbconvert_exporter": "python",
   "pygments_lexer": "ipython3",
   "version": "3.10.14"
  }
 },
 "nbformat": 4,
 "nbformat_minor": 2
}
