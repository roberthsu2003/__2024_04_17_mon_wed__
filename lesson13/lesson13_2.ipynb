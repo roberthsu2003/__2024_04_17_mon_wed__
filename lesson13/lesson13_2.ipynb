{
 "cells": [
  {
   "cell_type": "markdown",
   "metadata": {},
   "source": [
    "### 正規則表達式(regular expression)\n",
    "- 比對字串(使用者輸入的格式,是否符合我們要的格式(pattern))\n",
    "- 搜尋字串(搜尋大量的文字,取出符合pattern格式的文字)"
   ]
  },
  {
   "cell_type": "code",
   "execution_count": 9,
   "metadata": {},
   "outputs": [
    {
     "name": "stdout",
     "output_type": "stream",
     "text": [
      "0926-345-567-格式符合\n"
     ]
    }
   ],
   "source": [
    "import re\n",
    "phone_num = input(\"請輸入手機號碼xxxx-xxx-xxx:\")\n",
    "phoneNumRegex:re.Pattern = re.compile(r'\\d\\d\\d\\d-\\d\\d\\d-\\d\\d\\d')\n",
    "match1:re.Match | None = re.match(phoneNumRegex,phone_num)\n",
    "if match1 is not None:\n",
    "    print(f\"{match1.group()}-格式符合\")    \n",
    "else:\n",
    "    print(\"格式不符點\")\n",
    "    \n"
   ]
  }
 ],
 "metadata": {
  "kernelspec": {
   "display_name": "Python 3",
   "language": "python",
   "name": "python3"
  },
  "language_info": {
   "codemirror_mode": {
    "name": "ipython",
    "version": 3
   },
   "file_extension": ".py",
   "mimetype": "text/x-python",
   "name": "python",
   "nbconvert_exporter": "python",
   "pygments_lexer": "ipython3",
   "version": "3.10.14"
  }
 },
 "nbformat": 4,
 "nbformat_minor": 2
}
