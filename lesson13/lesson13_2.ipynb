{
 "cells": [
  {
   "cell_type": "markdown",
   "metadata": {},
   "source": [
    "### 正規則表達式(regular expression)\n",
    "- 比對字串(使用者輸入的格式,是否符合我們要的格式(pattern))\n",
    "- 搜尋字串(搜尋大量的文字,取出符合pattern格式的文字)"
   ]
  },
  {
   "cell_type": "code",
   "execution_count": 9,
   "metadata": {},
   "outputs": [
    {
     "name": "stdout",
     "output_type": "stream",
     "text": [
      "0926-345-567-格式符合\n"
     ]
    }
   ],
   "source": [
    "import re\n",
    "phone_num = input(\"請輸入手機號碼xxxx-xxx-xxx:\")\n",
    "phoneNumRegex:re.Pattern = re.compile(r'\\d\\d\\d\\d-\\d\\d\\d-\\d\\d\\d')\n",
    "match1:re.Match | None = re.match(phoneNumRegex,phone_num)\n",
    "if match1 is not None:\n",
    "    print(f\"{match1.group()}-格式符合\")    \n",
    "else:\n",
    "    print(\"格式不符點\")\n",
    "    \n"
   ]
  },
  {
   "cell_type": "code",
   "execution_count": 11,
   "metadata": {},
   "outputs": [
    {
     "name": "stdout",
     "output_type": "stream",
     "text": [
      "0926-123-456-格式符合\n",
      "0926-123-456-group(0)\n",
      "0926-group(1)\n",
      "123-group(2)\n",
      "456-group(3)\n"
     ]
    }
   ],
   "source": [
    "import re\n",
    "phone_num = input(\"請輸入手機號碼xxxx-xxx-xxx:\")\n",
    "phoneNumRegex:re.Pattern = re.compile(r'(\\d\\d\\d\\d)-(\\d\\d\\d)-(\\d\\d\\d)')\n",
    "match1:re.Match | None = re.match(phoneNumRegex,phone_num)\n",
    "if match1 is not None:\n",
    "    print(f\"{match1.group()}-格式符合\")\n",
    "    print(f\"{match1.group(0)}-group(0)\")\n",
    "    print(f\"{match1.group(1)}-group(1)\")\n",
    "    print(f\"{match1.group(2)}-group(2)\") \n",
    "    print(f\"{match1.group(3)}-group(3)\")   \n",
    "else:\n",
    "    print(\"格式不符點\")"
   ]
  },
  {
   "cell_type": "code",
   "execution_count": 13,
   "metadata": {},
   "outputs": [
    {
     "name": "stdout",
     "output_type": "stream",
     "text": [
      "(0926)-123-456-格式符合\n",
      "(0926)-123-456-group(0)\n",
      "(0926)-group(1)\n",
      "123-group(2)\n",
      "456-group(3)\n"
     ]
    }
   ],
   "source": [
    "import re\n",
    "phone_num = input(\"請輸入手機號碼(xxxx)-xxx-xxx:\")\n",
    "phoneNumRegex:re.Pattern = re.compile(r'(\\(\\d\\d\\d\\d\\))-(\\d\\d\\d)-(\\d\\d\\d)')\n",
    "match1:re.Match | None = re.match(phoneNumRegex,phone_num)\n",
    "if match1 is not None:\n",
    "    print(f\"{match1.group()}-格式符合\")\n",
    "    print(f\"{match1.group(0)}-group(0)\")\n",
    "    print(f\"{match1.group(1)}-group(1)\")\n",
    "    print(f\"{match1.group(2)}-group(2)\") \n",
    "    print(f\"{match1.group(3)}-group(3)\")   \n",
    "else:\n",
    "    print(\"格式不符合\")"
   ]
  },
  {
   "cell_type": "code",
   "execution_count": 15,
   "metadata": {},
   "outputs": [
    {
     "name": "stdout",
     "output_type": "stream",
     "text": [
      "(0926)-345-567-格式符合\n",
      "(0926)-345-567-group(0)\n",
      "(0926)-group(1)\n",
      "345-group(2)\n",
      "567-group(3)\n"
     ]
    }
   ],
   "source": [
    "import re\n",
    "phone_num = input(\"請輸入手機號碼(xxxx)-xxx-xxx,或者xxxx-xxx-xxx:\")\n",
    "phoneNumRegex:re.Pattern = re.compile(r'(\\(\\d\\d\\d\\d\\)|\\d\\d\\d\\d)-(\\d\\d\\d)-(\\d\\d\\d)')\n",
    "match1:re.Match | None = re.match(phoneNumRegex,phone_num)\n",
    "if match1 is not None:\n",
    "    print(f\"{match1.group()}-格式符合\")\n",
    "    print(f\"{match1.group(0)}-group(0)\")\n",
    "    print(f\"{match1.group(1)}-group(1)\")\n",
    "    print(f\"{match1.group(2)}-group(2)\") \n",
    "    print(f\"{match1.group(3)}-group(3)\")   \n",
    "else:\n",
    "    print(\"格式不符合\")"
   ]
  },
  {
   "cell_type": "code",
   "execution_count": 16,
   "metadata": {},
   "outputs": [
    {
     "name": "stdout",
     "output_type": "stream",
     "text": [
      "Batman\n"
     ]
    }
   ],
   "source": [
    "#使用pipe(|),選擇多選1\n",
    "\n",
    "heroRegex:re.Pattern = re.compile(r'Batman|Tina Fey')\n",
    "match1:re.Match | None = heroRegex.match('Batman and Tina Fey')\n",
    "print(match1.group())"
   ]
  },
  {
   "cell_type": "code",
   "execution_count": 17,
   "metadata": {},
   "outputs": [
    {
     "name": "stdout",
     "output_type": "stream",
     "text": [
      "Tina Fey\n"
     ]
    }
   ],
   "source": [
    "heroRegex:re.Pattern = re.compile(r'Batman|Tina Fey')\n",
    "match1:re.Match | None= heroRegex.match('Tina Fey and Batman')\n",
    "print(match1.group())"
   ]
  },
  {
   "cell_type": "code",
   "execution_count": 19,
   "metadata": {},
   "outputs": [
    {
     "name": "stdout",
     "output_type": "stream",
     "text": [
      "格式不符\n"
     ]
    }
   ],
   "source": [
    "heroRegex:re.Pattern = re.compile(r'Batman|Tina Fey')\n",
    "match1:re.Match | None = heroRegex.match('aTina Fey and Batman')\n",
    "if match1 is not None:\n",
    "    print(match1.group())\n",
    "else:\n",
    "    print(\"格式不符\")"
   ]
  },
  {
   "cell_type": "code",
   "execution_count": 20,
   "metadata": {},
   "outputs": [
    {
     "name": "stdout",
     "output_type": "stream",
     "text": [
      "Batmobile\n",
      "mobile\n"
     ]
    }
   ],
   "source": [
    "heroRegex:re.Pattern = re.compile(r'Bat(man|mobile|copter|bat)')\n",
    "match1:re.Match | None = heroRegex.search('Batmobile lost a wheel')\n",
    "if match1 is not None:\n",
    "    print(match1.group())\n",
    "    print(match1.group(1))\n",
    "else:\n",
    "    print(\"格式不符\")"
   ]
  },
  {
   "cell_type": "code",
   "execution_count": 21,
   "metadata": {},
   "outputs": [
    {
     "name": "stdout",
     "output_type": "stream",
     "text": [
      "Batbat\n",
      "bat\n"
     ]
    }
   ],
   "source": [
    "heroRegex:re.Pattern = re.compile(r'Bat(man|mobile|copter|bat)')\n",
    "match1:re.Match | None = heroRegex.search('lost a wheel Batbat')\n",
    "if match1 is not None:\n",
    "    print(match1.group())\n",
    "    print(match1.group(1))\n",
    "else:\n",
    "    print(\"格式不符\")"
   ]
  },
  {
   "cell_type": "code",
   "execution_count": 23,
   "metadata": {},
   "outputs": [
    {
     "name": "stdout",
     "output_type": "stream",
     "text": [
      "Batman\n",
      "None\n",
      "Batwoman\n",
      "wo\n"
     ]
    }
   ],
   "source": [
    "#?,前面的可有可無\n",
    "heroRegex:re.Pattern = re.compile(r'Bat(wo)?man')\n",
    "match1:re.Match | None = heroRegex.search('The Adventures of Batman')\n",
    "if match1 is not None:\n",
    "    print(match1.group())\n",
    "    print(match1.group(1))\n",
    "else:\n",
    "    print(\"格式不符\")\n",
    "\n",
    "match2:re.Match | None = heroRegex.search('The Adventures of Batwoman')\n",
    "if match2 is not None:\n",
    "    print(match2.group())\n",
    "    print(match2.group(1))\n",
    "else:\n",
    "    print(\"格式不符\")"
   ]
  },
  {
   "cell_type": "code",
   "execution_count": 25,
   "metadata": {},
   "outputs": [
    {
     "name": "stdout",
     "output_type": "stream",
     "text": [
      "Batman\n",
      "None\n",
      "Batwoman\n",
      "wo\n",
      "Batwowowowoman\n",
      "wo\n"
     ]
    }
   ],
   "source": [
    "#*,0或沒有限定數量\n",
    "heroRegex:re.Pattern = re.compile(r'Bat(wo)*man')\n",
    "match1:re.Match | None = heroRegex.search('The Adventures of Batman')\n",
    "if match1 is not None:\n",
    "    print(match1.group())\n",
    "    print(match1.group(1))\n",
    "else:\n",
    "    print(\"格式不符\")\n",
    "\n",
    "match2:re.Match | None = heroRegex.search('The Adventures of Batwoman')\n",
    "if match2 is not None:\n",
    "    print(match2.group())\n",
    "    print(match2.group(1))\n",
    "else:\n",
    "    print(\"格式不符\")\n",
    "\n",
    "match3:re.Match | None = heroRegex.search('The Adventures of Batwowowowoman')\n",
    "if match3 is not None:\n",
    "    print(match3.group())\n",
    "    print(match3.group(1))\n",
    "else:\n",
    "    print(\"格式不符\")"
   ]
  },
  {
   "cell_type": "code",
   "execution_count": 26,
   "metadata": {},
   "outputs": [
    {
     "name": "stdout",
     "output_type": "stream",
     "text": [
      "格式不符\n",
      "Batwoman\n",
      "wo\n",
      "Batwowowowoman\n",
      "wo\n"
     ]
    }
   ],
   "source": [
    "#+,1個或沒有限定數量\n",
    "#*,0或沒有限定數量\n",
    "heroRegex:re.Pattern = re.compile(r'Bat(wo)+man')\n",
    "match1:re.Match | None = heroRegex.search('The Adventures of Batman')\n",
    "if match1 is not None:\n",
    "    print(match1.group())\n",
    "    print(match1.group(1))\n",
    "else:\n",
    "    print(\"格式不符\")\n",
    "\n",
    "match2:re.Match | None = heroRegex.search('The Adventures of Batwoman')\n",
    "if match2 is not None:\n",
    "    print(match2.group())\n",
    "    print(match2.group(1))\n",
    "else:\n",
    "    print(\"格式不符\")\n",
    "\n",
    "match3:re.Match | None = heroRegex.search('The Adventures of Batwowowowoman')\n",
    "if match3 is not None:\n",
    "    print(match3.group())\n",
    "    print(match3.group(1))\n",
    "else:\n",
    "    print(\"格式不符\")"
   ]
  }
 ],
 "metadata": {
  "kernelspec": {
   "display_name": "Python 3",
   "language": "python",
   "name": "python3"
  },
  "language_info": {
   "codemirror_mode": {
    "name": "ipython",
    "version": 3
   },
   "file_extension": ".py",
   "mimetype": "text/x-python",
   "name": "python",
   "nbconvert_exporter": "python",
   "pygments_lexer": "ipython3",
   "version": "3.10.14"
  }
 },
 "nbformat": 4,
 "nbformat_minor": 2
}
