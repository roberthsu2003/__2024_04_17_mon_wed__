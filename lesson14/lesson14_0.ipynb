{
 "cells": [
  {
   "cell_type": "code",
   "execution_count": 3,
   "metadata": {},
   "outputs": [
    {
     "name": "stdout",
     "output_type": "stream",
     "text": [
      "dog\n",
      "cat\n"
     ]
    },
    {
     "data": {
      "text/plain": [
       "'dog'"
      ]
     },
     "execution_count": 3,
     "metadata": {},
     "output_type": "execute_result"
    }
   ],
   "source": [
    "from pydantic import RootModel\n",
    "\n",
    "class Pets(RootModel):\n",
    "    root: list[str]\n",
    "\n",
    "    def __iter__(self):\n",
    "        return iter(self.root)\n",
    "\n",
    "    def __getitem__(self, item):\n",
    "        return self.root[item]\n",
    "    \n",
    "pets = Pets.model_validate(['dog', 'cat'])\n",
    "for pet in pets:\n",
    "    print(pet)\n",
    "\n",
    "pets[0]"
   ]
  },
  {
   "cell_type": "code",
   "execution_count": 5,
   "metadata": {},
   "outputs": [
    {
     "name": "stdout",
     "output_type": "stream",
     "text": [
      "格式不符\n"
     ]
    }
   ],
   "source": [
    "import re\n",
    "\n",
    "phone_num = input('請輸入手機號碼(xxx) xxx-xxxx: ')\n",
    "phoneNumRegex = re.compile(r'\\(\\d{3}\\) \\d{3}-\\d{4}')\n",
    "match1 = phoneNumRegex.match(phone_num)\n",
    "if match1 is not None:\n",
    "    print(f'{match1.group()}: 格式符合')\n",
    "else:\n",
    "    print('格式不符')\n"
   ]
  },
  {
   "cell_type": "code",
   "execution_count": 7,
   "metadata": {},
   "outputs": [
    {
     "name": "stdout",
     "output_type": "stream",
     "text": [
      "格式不符\n"
     ]
    }
   ],
   "source": [
    "date = input('請輸入日期yyyy-mm-dd: ')\n",
    "dateRegex = re.compile(r'\\d{4}-(0[1-9]|1[0-2])-(0[1-9]|[12][0-9]|3[01])')\n",
    "match2 = dateRegex.match(date)\n",
    "if match2 is not None:\n",
    "    print(f'{match2.group()}: 格式符合')\n",
    "else:\n",
    "    print('格式不符')"
   ]
  }
 ],
 "metadata": {
  "kernelspec": {
   "display_name": "Python 3",
   "language": "python",
   "name": "python3"
  },
  "language_info": {
   "codemirror_mode": {
    "name": "ipython",
    "version": 3
   },
   "file_extension": ".py",
   "mimetype": "text/x-python",
   "name": "python",
   "nbconvert_exporter": "python",
   "pygments_lexer": "ipython3",
   "version": "3.10.14"
  }
 },
 "nbformat": 4,
 "nbformat_minor": 2
}
