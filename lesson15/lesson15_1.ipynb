{
 "cells": [
  {
   "cell_type": "code",
   "execution_count": 9,
   "metadata": {},
   "outputs": [
    {
     "data": {
      "text/plain": [
       "(['chinese', 'english', 'math', 'history', 'discover'],\n",
       " [78, 80, 92, 75, 85],\n",
       " [92, 60, 85, 62, 73])"
      ]
     },
     "execution_count": 9,
     "metadata": {},
     "output_type": "execute_result"
    }
   ],
   "source": [
    "student1 = {'chinese':78, 'english':80, 'math':92, 'history':75, 'discover':85}\n",
    "student2 = {'chinese':92, 'english':60, 'math':85, 'history':62, 'discover':73}\n",
    "keys = student1.keys()\n",
    "subject:list[str] = list(keys)\n",
    "values = student1.values()\n",
    "values1 = list(values)\n",
    "values2 = list(student2.values())\n",
    "\n",
    "subject, values1, values2"
   ]
  }
 ],
 "metadata": {
  "kernelspec": {
   "display_name": "Python 3",
   "language": "python",
   "name": "python3"
  },
  "language_info": {
   "codemirror_mode": {
    "name": "ipython",
    "version": 3
   },
   "file_extension": ".py",
   "mimetype": "text/x-python",
   "name": "python",
   "nbconvert_exporter": "python",
   "pygments_lexer": "ipython3",
   "version": "3.10.14"
  }
 },
 "nbformat": 4,
 "nbformat_minor": 2
}
