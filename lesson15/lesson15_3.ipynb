{
 "cells": [
  {
   "cell_type": "code",
   "execution_count": 3,
   "metadata": {},
   "outputs": [
    {
     "name": "stdout",
     "output_type": "stream",
     "text": [
      "144\n",
      "===============\n",
      "170\n",
      "===============\n",
      "164\n",
      "===============\n",
      "167\n",
      "===============\n",
      "177\n",
      "===============\n"
     ]
    }
   ],
   "source": [
    "student1 = [69, 78, 72, 91, 85]\n",
    "student2 = [75, 92, 92, 76, 92]\n",
    "\n",
    "for i in range(len(student1)):\n",
    "    scores = student1[i] + student2[i]\n",
    "    print(scores)\n",
    "    print(\"===============\")"
   ]
  },
  {
   "cell_type": "code",
   "execution_count": 4,
   "metadata": {},
   "outputs": [
    {
     "data": {
      "text/plain": [
       "[69, 78, 72, 91, 85, 75, 92, 92, 76, 92]"
      ]
     },
     "execution_count": 4,
     "metadata": {},
     "output_type": "execute_result"
    }
   ],
   "source": [
    "student1 = [69, 78, 72, 91, 85]\n",
    "student2 = [75, 92, 92, 76, 92]\n",
    "\n",
    "student1 + student2"
   ]
  },
  {
   "cell_type": "code",
   "execution_count": 8,
   "metadata": {},
   "outputs": [
    {
     "name": "stdout",
     "output_type": "stream",
     "text": [
      "144\n",
      "=========\n",
      "170\n",
      "=========\n",
      "164\n",
      "=========\n",
      "167\n",
      "=========\n",
      "177\n",
      "=========\n"
     ]
    }
   ],
   "source": [
    "import numpy as np\n",
    "from numpy import ndarray\n",
    "student1:ndarray = np.array([69, 78, 72, 91, 85])\n",
    "student2:ndarray = np.array([75, 92, 92, 76, 92])\n",
    "\n",
    "#可以做陣列運算,不需使用for...in\n",
    "totols:ndarray= student1 + student2\n",
    "for total in totols:\n",
    "    print(total)\n",
    "    print(\"=========\")"
   ]
  },
  {
   "cell_type": "code",
   "execution_count": 13,
   "metadata": {},
   "outputs": [
    {
     "name": "stdout",
     "output_type": "stream",
     "text": [
      "[[1 2 3]\n",
      " [4 5 6]]\n",
      "2\n",
      "(2, 3)\n",
      "6\n",
      "int64\n"
     ]
    }
   ],
   "source": [
    "array:ndarray = np.array([[1,2,3],[4,5,6]])\n",
    "print(array)\n",
    "#property\n",
    "#ndim,shape,size,dtype\n",
    "\n",
    "print(array.ndim)\n",
    "print(array.shape)\n",
    "print(array.size)\n",
    "print(array.dtype)"
   ]
  },
  {
   "cell_type": "code",
   "execution_count": 17,
   "metadata": {},
   "outputs": [
    {
     "data": {
      "text/plain": [
       "array([[ 55,  64,  71,  82,  86],\n",
       "       [ 86,  52,  98,  91, 100],\n",
       "       [ 52,  72,  84,  91,  54],\n",
       "       [ 59,  93,  82,  63,  69],\n",
       "       [ 56,  91,  86,  98,  52],\n",
       "       [ 98,  92,  73,  72,  70],\n",
       "       [ 54,  93,  71,  95,  74],\n",
       "       [ 86,  68,  51,  50,  91],\n",
       "       [ 60,  62,  96,  95,  68],\n",
       "       [ 75,  72,  75,  82,  64],\n",
       "       [ 83,  76,  59,  69,  70],\n",
       "       [ 95,  99,  69,  77,  98],\n",
       "       [ 63,  51,  58,  81,  63],\n",
       "       [ 88,  79,  55,  63,  62],\n",
       "       [ 66,  63,  78,  71,  68],\n",
       "       [ 85,  97,  57,  80,  73],\n",
       "       [ 69,  99,  74,  94,  67],\n",
       "       [ 90,  63,  72,  95,  71],\n",
       "       [ 79,  70,  54,  53,  56],\n",
       "       [ 77,  56,  99,  68,  94],\n",
       "       [ 99,  83,  93,  69,  79],\n",
       "       [ 95,  92,  99,  65,  66],\n",
       "       [ 55,  91,  98,  57,  58],\n",
       "       [ 53,  56,  54,  94,  87],\n",
       "       [ 90,  69,  57,  99,  94],\n",
       "       [ 50,  71,  72,  95,  84],\n",
       "       [ 68,  73,  64,  93,  86],\n",
       "       [ 95,  78,  54,  77,  51],\n",
       "       [ 81,  73,  96,  52,  58],\n",
       "       [ 50,  92,  82,  99,  76],\n",
       "       [ 55,  70,  51,  94,  79],\n",
       "       [ 78,  71,  65,  50,  85],\n",
       "       [ 74,  55,  98,  69,  87],\n",
       "       [ 95,  60,  73,  75,  90],\n",
       "       [ 64,  83,  73,  81,  70],\n",
       "       [ 52,  73,  65,  75,  94],\n",
       "       [ 65,  62, 100,  66,  68],\n",
       "       [ 84,  92,  81,  66,  65],\n",
       "       [ 68,  81,  60,  95,  76],\n",
       "       [ 73,  87,  99,  92,  52],\n",
       "       [ 90,  50,  97,  52,  99],\n",
       "       [ 97,  67,  77,  78,  66],\n",
       "       [ 60,  90,  95,  80,  52],\n",
       "       [ 95,  96,  50,  69,  62],\n",
       "       [ 96,  64,  80,  61,  64],\n",
       "       [ 61,  65,  57,  60,  92],\n",
       "       [ 94,  85,  60, 100,  72],\n",
       "       [ 60,  83,  94,  60,  60],\n",
       "       [ 89,  52,  58,  72,  66],\n",
       "       [ 54,  74,  56,  74,  85]])"
      ]
     },
     "execution_count": 17,
     "metadata": {},
     "output_type": "execute_result"
    }
   ],
   "source": [
    "np.random.randint(50,101,size=(50, 5))"
   ]
  }
 ],
 "metadata": {
  "kernelspec": {
   "display_name": "Python 3",
   "language": "python",
   "name": "python3"
  },
  "language_info": {
   "codemirror_mode": {
    "name": "ipython",
    "version": 3
   },
   "file_extension": ".py",
   "mimetype": "text/x-python",
   "name": "python",
   "nbconvert_exporter": "python",
   "pygments_lexer": "ipython3",
   "version": "3.10.14"
  }
 },
 "nbformat": 4,
 "nbformat_minor": 2
}
