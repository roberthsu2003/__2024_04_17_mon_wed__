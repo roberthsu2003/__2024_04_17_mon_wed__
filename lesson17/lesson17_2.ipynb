{
 "cells": [
  {
   "cell_type": "code",
   "execution_count": null,
   "metadata": {},
   "outputs": [],
   "source": [
    "import numpy as np\n",
    "import pandas as pd\n",
    "\n",
    "df1 = pd.read_csv('world.csv')\n",
    "df1"
   ]
  },
  {
   "cell_type": "code",
   "execution_count": 2,
   "metadata": {},
   "outputs": [
    {
     "name": "stdout",
     "output_type": "stream",
     "text": [
      "<class 'pandas.core.frame.DataFrame'>\n",
      "RangeIndex: 187885 entries, 0 to 187884\n",
      "Data columns (total 33 columns):\n",
      " #   Column          Non-Null Count   Dtype  \n",
      "---  ------          --------------   -----  \n",
      " 0   ID              187885 non-null  int64  \n",
      " 1   iso_code        187885 non-null  object \n",
      " 2   洲名              187885 non-null  object \n",
      " 3   國家              187885 non-null  object \n",
      " 4   日期              187885 non-null  object \n",
      " 5   總確診數            187885 non-null  int64  \n",
      " 6   新增確診數           187885 non-null  int64  \n",
      " 7   七天移動平均新增確診數     187885 non-null  float64\n",
      " 8   總死亡數            187885 non-null  int64  \n",
      " 9   新增死亡數           187885 non-null  int64  \n",
      " 10  七天移動平均新增死亡數     187885 non-null  float64\n",
      " 11  每百萬人確診數         187885 non-null  float64\n",
      " 12  每百萬人死亡數         187885 non-null  float64\n",
      " 13  傳染率             187885 non-null  float64\n",
      " 14  新增檢驗件數          187885 non-null  int64  \n",
      " 15  總檢驗件數           187885 non-null  int64  \n",
      " 16  每千人檢驗件數         187885 non-null  float64\n",
      " 17  七天移動平均新增檢驗件數    187885 non-null  float64\n",
      " 18  陽性率             187885 non-null  float64\n",
      " 19  每確診案例相對檢驗數量     187885 non-null  float64\n",
      " 20  疫苗總接種總劑數        187885 non-null  int64  \n",
      " 21  疫苗總接種人數         187885 non-null  int64  \n",
      " 22  疫苗新增接種劑數        187885 non-null  int64  \n",
      " 23  七天移動平均疫苗新增接種劑數  187885 non-null  float64\n",
      " 24  每百人接種疫苗劑數       187885 non-null  float64\n",
      " 25  每百人接種疫苗人數       187885 non-null  float64\n",
      " 26  疫情控管指數          187885 non-null  float64\n",
      " 27  總人口數            187885 non-null  int64  \n",
      " 28  中位數年紀           187885 non-null  float64\n",
      " 29  70歲以上人口比例       187885 non-null  float64\n",
      " 30  平均壽命            187885 non-null  float64\n",
      " 31  解除隔離數           187885 non-null  int64  \n",
      " 32  解封指數            187885 non-null  float64\n",
      "dtypes: float64(17), int64(12), object(4)\n",
      "memory usage: 47.3+ MB\n"
     ]
    }
   ],
   "source": [
    "df1.info()"
   ]
  },
  {
   "cell_type": "code",
   "execution_count": 4,
   "metadata": {},
   "outputs": [
    {
     "name": "stdout",
     "output_type": "stream",
     "text": [
      "<class 'pandas.core.frame.DataFrame'>\n",
      "RangeIndex: 187885 entries, 0 to 187884\n",
      "Data columns (total 5 columns):\n",
      " #   Column  Non-Null Count   Dtype \n",
      "---  ------  --------------   ----- \n",
      " 0   洲名      187885 non-null  object\n",
      " 1   國家      187885 non-null  object\n",
      " 2   日期      187885 non-null  object\n",
      " 3   總確診數    187885 non-null  int64 \n",
      " 4   新增確診數   187885 non-null  int64 \n",
      "dtypes: int64(2), object(3)\n",
      "memory usage: 7.2+ MB\n"
     ]
    }
   ],
   "source": [
    "df2 = df1.reindex(columns=['洲名','國家','日期','總確診數','新增確診數'])\n",
    "df2.info()"
   ]
  }
 ],
 "metadata": {
  "kernelspec": {
   "display_name": "Python 3",
   "language": "python",
   "name": "python3"
  },
  "language_info": {
   "codemirror_mode": {
    "name": "ipython",
    "version": 3
   },
   "file_extension": ".py",
   "mimetype": "text/x-python",
   "name": "python",
   "nbconvert_exporter": "python",
   "pygments_lexer": "ipython3",
   "version": "3.10.14"
  }
 },
 "nbformat": 4,
 "nbformat_minor": 2
}
