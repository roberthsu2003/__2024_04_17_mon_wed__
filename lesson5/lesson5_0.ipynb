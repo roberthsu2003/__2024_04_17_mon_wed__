{
 "cells": [
  {
   "cell_type": "code",
   "execution_count": null,
   "metadata": {},
   "outputs": [],
   "source": [
    "top = eval(input('請輸入梯形的上底(公分):'))\n",
    "bottom = eval(input('請輸入梯形的下底(公分):'))\n",
    "height = eval(input('請輸入梯形的高(公分):'))\n",
    "\n",
    "area = round((top + bottom) * height / 2, ndigits=2)\n",
    "print(f'梯形的上底{top}公分, 下底{bottom}公分, 高{height}公分')\n",
    "print(f'梯形的面積:{area}平方公分')"
   ]
  }
 ],
 "metadata": {
  "kernelspec": {
   "display_name": "Python 3",
   "language": "python",
   "name": "python3"
  },
  "language_info": {
   "name": "python",
   "version": "3.10.13"
  }
 },
 "nbformat": 4,
 "nbformat_minor": 2
}
