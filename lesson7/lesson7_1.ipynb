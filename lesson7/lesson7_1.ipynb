{
 "cells": [
  {
   "cell_type": "code",
   "execution_count": 2,
   "metadata": {},
   "outputs": [
    {
     "name": "stdout",
     "output_type": "stream",
     "text": [
      "1加到10>55\n"
     ]
    }
   ],
   "source": [
    "#1~10的結果\n",
    "\n",
    "total = 0\n",
    "total += 1\n",
    "total += 2\n",
    "total += 3\n",
    "total += 4\n",
    "total += 5\n",
    "total += 6\n",
    "total += 7\n",
    "total += 8\n",
    "total += 9\n",
    "total += 10\n",
    "\n",
    "print(f\"1加到10>{total}\")\n"
   ]
  },
  {
   "cell_type": "code",
   "execution_count": 4,
   "metadata": {},
   "outputs": [
    {
     "name": "stdout",
     "output_type": "stream",
     "text": [
      "0\n",
      "1\n",
      "2\n",
      "3\n",
      "4\n"
     ]
    }
   ],
   "source": [
    "for i in range(5):\n",
    "    print(i)"
   ]
  },
  {
   "cell_type": "code",
   "execution_count": 7,
   "metadata": {},
   "outputs": [
    {
     "name": "stdout",
     "output_type": "stream",
     "text": [
      "1 2 3 4 5 6 7 8 9 "
     ]
    }
   ],
   "source": [
    "for i in range(1,10):\n",
    "    print(i,end=' ')"
   ]
  },
  {
   "cell_type": "code",
   "execution_count": 8,
   "metadata": {},
   "outputs": [
    {
     "name": "stdout",
     "output_type": "stream",
     "text": [
      "1 3 5 7 9 "
     ]
    }
   ],
   "source": [
    "for i in range(1,10,2):\n",
    "    print(i,end=' ')"
   ]
  },
  {
   "cell_type": "code",
   "execution_count": 9,
   "metadata": {},
   "outputs": [
    {
     "name": "stdout",
     "output_type": "stream",
     "text": [
      "1加到10>55\n"
     ]
    }
   ],
   "source": [
    "total = 0\n",
    "for i in range(1,11):\n",
    "    total += i\n",
    "\n",
    "print(f\"1加到10>{total}\")\n"
   ]
  },
  {
   "cell_type": "code",
   "execution_count": 13,
   "metadata": {},
   "outputs": [
    {
     "name": "stdout",
     "output_type": "stream",
     "text": [
      "1加到10>55\n"
     ]
    }
   ],
   "source": [
    "total = 0\n",
    "for i in range(10,0,-1):\n",
    "    total += i\n",
    "\n",
    "print(f\"1加到10>{total}\")\n"
   ]
  },
  {
   "cell_type": "code",
   "execution_count": 16,
   "metadata": {},
   "outputs": [
    {
     "name": "stdout",
     "output_type": "stream",
     "text": [
      "請輸入1加到?(最大到1000,最小10):Number must be at minimum 10.\n",
      "請輸入1加到?(最大到1000,最小10):100\n",
      "1+...+100:5050\n"
     ]
    }
   ],
   "source": [
    "import pyinputplus as pyip\n",
    "n = pyip.inputInt(\"請輸入1加到?(最大到1000,最小10):\",min=10,max=1000)\n",
    "print(n)\n",
    "total = 0\n",
    "for i in range(1,n+1):\n",
    "    total += i\n",
    "print(f\"1+...+{n}:{total}\")"
   ]
  },
  {
   "cell_type": "code",
   "execution_count": 22,
   "metadata": {},
   "outputs": [
    {
     "name": "stdout",
     "output_type": "stream",
     "text": [
      "i=1,j=1 i=1,j=2 i=1,j=3 i=1,j=4 i=1,j=5 i=1,j=6 i=1,j=7 i=1,j=8 i=1,j=9 \n",
      "===========\n",
      "i=2,j=1 i=2,j=2 i=2,j=3 i=2,j=4 i=2,j=5 i=2,j=6 i=2,j=7 i=2,j=8 i=2,j=9 \n",
      "===========\n",
      "i=3,j=1 i=3,j=2 i=3,j=3 i=3,j=4 i=3,j=5 i=3,j=6 i=3,j=7 i=3,j=8 i=3,j=9 \n",
      "===========\n",
      "i=4,j=1 i=4,j=2 i=4,j=3 i=4,j=4 i=4,j=5 i=4,j=6 i=4,j=7 i=4,j=8 i=4,j=9 \n",
      "===========\n",
      "i=5,j=1 i=5,j=2 i=5,j=3 i=5,j=4 i=5,j=5 i=5,j=6 i=5,j=7 i=5,j=8 i=5,j=9 \n",
      "===========\n",
      "i=6,j=1 i=6,j=2 i=6,j=3 i=6,j=4 i=6,j=5 i=6,j=6 i=6,j=7 i=6,j=8 i=6,j=9 \n",
      "===========\n",
      "i=7,j=1 i=7,j=2 i=7,j=3 i=7,j=4 i=7,j=5 i=7,j=6 i=7,j=7 i=7,j=8 i=7,j=9 \n",
      "===========\n",
      "i=8,j=1 i=8,j=2 i=8,j=3 i=8,j=4 i=8,j=5 i=8,j=6 i=8,j=7 i=8,j=8 i=8,j=9 \n",
      "===========\n",
      "i=9,j=1 i=9,j=2 i=9,j=3 i=9,j=4 i=9,j=5 i=9,j=6 i=9,j=7 i=9,j=8 i=9,j=9 \n",
      "===========\n"
     ]
    }
   ],
   "source": [
    "#巢狀迴圈\n",
    "for i in range(1,10):    \n",
    "    for j in range(1,10):\n",
    "        print(f\"i={i},j={j}\",end=' ')\n",
    "    print(\"\\n===========\")"
   ]
  },
  {
   "cell_type": "code",
   "execution_count": 31,
   "metadata": {},
   "outputs": [
    {
     "name": "stdout",
     "output_type": "stream",
     "text": [
      "1 * 1 = 1  1 * 2 = 2  1 * 3 = 3  1 * 4 = 4  1 * 5 = 5  1 * 6 = 6  1 * 7 = 7  1 * 8 = 8  1 * 9 = 9  \n",
      "2 * 1 = 2  2 * 2 = 4  2 * 3 = 6  2 * 4 = 8  2 * 5 =10  2 * 6 =12  2 * 7 =14  2 * 8 =16  2 * 9 =18  \n",
      "3 * 1 = 3  3 * 2 = 6  3 * 3 = 9  3 * 4 =12  3 * 5 =15  3 * 6 =18  3 * 7 =21  3 * 8 =24  3 * 9 =27  \n",
      "4 * 1 = 4  4 * 2 = 8  4 * 3 =12  4 * 4 =16  4 * 5 =20  4 * 6 =24  4 * 7 =28  4 * 8 =32  4 * 9 =36  \n",
      "5 * 1 = 5  5 * 2 =10  5 * 3 =15  5 * 4 =20  5 * 5 =25  5 * 6 =30  5 * 7 =35  5 * 8 =40  5 * 9 =45  \n",
      "6 * 1 = 6  6 * 2 =12  6 * 3 =18  6 * 4 =24  6 * 5 =30  6 * 6 =36  6 * 7 =42  6 * 8 =48  6 * 9 =54  \n",
      "7 * 1 = 7  7 * 2 =14  7 * 3 =21  7 * 4 =28  7 * 5 =35  7 * 6 =42  7 * 7 =49  7 * 8 =56  7 * 9 =63  \n",
      "8 * 1 = 8  8 * 2 =16  8 * 3 =24  8 * 4 =32  8 * 5 =40  8 * 6 =48  8 * 7 =56  8 * 8 =64  8 * 9 =72  \n",
      "9 * 1 = 9  9 * 2 =18  9 * 3 =27  9 * 4 =36  9 * 5 =45  9 * 6 =54  9 * 7 =63  9 * 8 =72  9 * 9 =81  \n"
     ]
    }
   ],
   "source": [
    "for i in range(1,10):    \n",
    "    for j in range(1,10):\n",
    "        print(f\"{i:<2d}*{j:2d} ={i*j:2d}\",end='  ')\n",
    "    print()"
   ]
  },
  {
   "cell_type": "code",
   "execution_count": null,
   "metadata": {},
   "outputs": [],
   "source": []
  }
 ],
 "metadata": {
  "kernelspec": {
   "display_name": "Python 3",
   "language": "python",
   "name": "python3"
  },
  "language_info": {
   "codemirror_mode": {
    "name": "ipython",
    "version": 3
   },
   "file_extension": ".py",
   "mimetype": "text/x-python",
   "name": "python",
   "nbconvert_exporter": "python",
   "pygments_lexer": "ipython3",
   "version": "3.10.14"
  }
 },
 "nbformat": 4,
 "nbformat_minor": 2
}
