{
 "cells": [
  {
   "cell_type": "code",
   "execution_count": 6,
   "metadata": {},
   "outputs": [
    {
     "name": "stdout",
     "output_type": "stream",
     "text": [
      "請輸入這個月存的金額:1234\n",
      "請輸入這個月存的金額:4567\n",
      "請輸入這個月存的金額:3456\n",
      "請輸入這個月存的金額:3456\n",
      "請輸入這個月存的金額:6789\n",
      "請輸入這個月存的金額:3456\n",
      "請輸入這個月存的金額:2345\n",
      "請輸入這個月存的金額:5678\n",
      "最後一次存的金額是:5678\n",
      "小明已經存了30981元\n"
     ]
    }
   ],
   "source": [
    "#小明想要存錢買一輛機車,機車每輛30000元，他將每月存的錢輸入，當存款足夠買機車時，就顯示提示訊息告知。\n",
    "\n",
    "import pyinputplus as pyip\n",
    "deposit = 0\n",
    "while deposit < 30000:\n",
    "    input_money = pyip.inputInt(\"請輸入這個月存的金額:\")\n",
    "    print(input_money)\n",
    "    deposit += input_money\n",
    "print(f\"最後一次存的金額是:{input_money}\")\n",
    "print(f\"小明已經存了{deposit}元\")"
   ]
  }
 ],
 "metadata": {
  "kernelspec": {
   "display_name": "Python 3",
   "language": "python",
   "name": "python3"
  },
  "language_info": {
   "codemirror_mode": {
    "name": "ipython",
    "version": 3
   },
   "file_extension": ".py",
   "mimetype": "text/x-python",
   "name": "python",
   "nbconvert_exporter": "python",
   "pygments_lexer": "ipython3",
   "version": "3.10.14"
  }
 },
 "nbformat": 4,
 "nbformat_minor": 2
}
