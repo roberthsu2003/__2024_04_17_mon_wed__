{
 "cells": [
  {
   "cell_type": "code",
   "execution_count": 8,
   "metadata": {},
   "outputs": [
    {
     "name": "stdout",
     "output_type": "stream",
     "text": [
      "請輸入第1月存的金額:1000\n",
      "請輸入第2月存的金額:23456\n",
      "請輸入第3月存的金額:34567\n",
      "最後一次存的金額是:34567\n",
      "小明總共存了3個月,已經存了59023元\n"
     ]
    }
   ],
   "source": [
    "#小明想要存錢買一輛機車,機車每輛30000元，他將每月存的錢輸入，當存款足夠買機車時，就顯示提示訊息告知。\n",
    "\n",
    "import pyinputplus as pyip\n",
    "deposit = 0\n",
    "num = 0\n",
    "while deposit < 30000:\n",
    "    input_money = pyip.inputInt(f\"請輸入第{num+1}月存的金額:\")\n",
    "    print(input_money)\n",
    "    deposit += input_money\n",
    "    num += 1\n",
    "print(f\"最後一次存的金額是:{input_money}\")\n",
    "print(f\"小明總共存了{num}個月,已經存了{deposit}元\")"
   ]
  },
  {
   "cell_type": "code",
   "execution_count": 10,
   "metadata": {},
   "outputs": [
    {
     "name": "stdout",
     "output_type": "stream",
     "text": [
      "請輸入第1月存的金額:4567\n",
      "請輸入第2月存的金額:5678\n",
      "請輸入第3月存的金額:4567\n",
      "請輸入第4月存的金額:5678\n",
      "請輸入第5月存的金額:4567\n",
      "請輸入第6月存的金額:5678\n",
      "最後一次存的金額是:5678\n",
      "小明總共存了6個月,已經存了30735元\n"
     ]
    }
   ],
   "source": [
    "import pyinputplus as pyip\n",
    "deposit = 0\n",
    "num = 0\n",
    "while True:\n",
    "    num += 1\n",
    "    input_money = pyip.inputInt(f\"請輸入第{num}月存的金額:\")\n",
    "    print(input_money)    \n",
    "    deposit += input_money\n",
    "    if deposit >= 30000:\n",
    "        break\n",
    "    \n",
    "print(f\"最後一次存的金額是:{input_money}\")\n",
    "print(f\"小明總共存了{num}個月,已經存了{deposit}元\")"
   ]
  }
 ],
 "metadata": {
  "kernelspec": {
   "display_name": "Python 3",
   "language": "python",
   "name": "python3"
  },
  "language_info": {
   "codemirror_mode": {
    "name": "ipython",
    "version": 3
   },
   "file_extension": ".py",
   "mimetype": "text/x-python",
   "name": "python",
   "nbconvert_exporter": "python",
   "pygments_lexer": "ipython3",
   "version": "3.10.14"
  }
 },
 "nbformat": 4,
 "nbformat_minor": 2
}
