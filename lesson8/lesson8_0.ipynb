{
 "cells": [
  {
   "cell_type": "code",
   "execution_count": 1,
   "metadata": {},
   "outputs": [
    {
     "name": "stdout",
     "output_type": "stream",
     "text": [
      "請輸入整數,求所有因數:1035\n",
      "1035的因數是:\n",
      "1 3 5 9 15 23 45 69 115 207 345 1035 "
     ]
    }
   ],
   "source": [
    "import pyinputplus as pyip\n",
    "\n",
    "n = pyip.inputInt(\"請輸入整數,求所有因數:\", min=0)\n",
    "print(n)\n",
    "print(f\"{n}的因數是:\")\n",
    "for i in range(1,n+1):\n",
    "    if n % i == 0: \n",
    "        print(i,end=' ')\n"
   ]
  }
 ],
 "metadata": {
  "kernelspec": {
   "display_name": "Python 3",
   "language": "python",
   "name": "python3"
  },
  "language_info": {
   "codemirror_mode": {
    "name": "ipython",
    "version": 3
   },
   "file_extension": ".py",
   "mimetype": "text/x-python",
   "name": "python",
   "nbconvert_exporter": "python",
   "pygments_lexer": "ipython3",
   "version": "3.10.14"
  }
 },
 "nbformat": 4,
 "nbformat_minor": 2
}
