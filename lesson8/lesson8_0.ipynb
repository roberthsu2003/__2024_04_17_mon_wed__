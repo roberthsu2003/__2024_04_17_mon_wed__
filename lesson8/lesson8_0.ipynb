{
 "cells": [
  {
   "cell_type": "code",
   "execution_count": 1,
   "metadata": {},
   "outputs": [
    {
     "name": "stdout",
     "output_type": "stream",
     "text": [
      "請輸入整數,求所有因數:1035\n",
      "1035的因數是:\n",
      "1 3 5 9 15 23 45 69 115 207 345 1035 "
     ]
    }
   ],
   "source": [
    "import pyinputplus as pyip\n",
    "\n",
    "n = pyip.inputInt(\"請輸入整數,求所有因數:\", min=0)\n",
    "print(n)\n",
    "print(f\"{n}的因數是:\")\n",
    "for i in range(1,n+1):\n",
    "    if n % i == 0: \n",
    "        print(i,end=' ')\n"
   ]
  },
  {
   "cell_type": "code",
   "execution_count": 9,
   "metadata": {},
   "outputs": [
    {
     "name": "stdout",
     "output_type": "stream",
     "text": [
      "=========猜數字遊戲============\n",
      "\n",
      "猜數字的範圍1~100:50\n",
      "再小一點\n",
      "您已經猜了1次\n",
      "猜數字的範圍1~49:Blank values are not allowed.\n",
      "猜數字的範圍1~49:25\n",
      "再小一點\n",
      "您已經猜了2次\n",
      "猜數字的範圍1~24:10\n",
      "再大一點\n",
      "您已經猜了3次\n",
      "猜數字的範圍11~24:18\n",
      "再小一點\n",
      "您已經猜了4次\n",
      "猜數字的範圍11~17:15\n",
      "再小一點\n",
      "您已經猜了5次\n",
      "猜數字的範圍11~14:Blank values are not allowed.\n",
      "猜數字的範圍11~14:13\n",
      "再小一點\n",
      "您已經猜了6次\n",
      "猜數字的範圍11~12:Blank values are not allowed.\n",
      "猜數字的範圍11~12:11\n",
      "賓果!猜對了, 答案是:11\n",
      "您總共猜了7次\n",
      "遊戲結束\n"
     ]
    }
   ],
   "source": [
    "import random\n",
    "import pyinputplus as pyip\n",
    "\n",
    "min = 1\n",
    "max = 100\n",
    "count = 0\n",
    "target = random.randint(min,max)\n",
    "print(\"=========猜數字遊戲============\\n\")\n",
    "while True:\n",
    "    count += 1\n",
    "    keyin = pyip.inputInt(f\"猜數字的範圍{min}~{max}:\")\n",
    "    print(keyin)\n",
    "    if keyin == target:\n",
    "        print(f\"賓果!猜對了, 答案是:{target}\")\n",
    "        print(f\"您總共猜了{count}次\")\n",
    "        break\n",
    "    elif(keyin > target):        \n",
    "        print(\"再小一點\")\n",
    "        max = keyin-1        \n",
    "    elif(keyin < target):\n",
    "        print(\"再大一點\")\n",
    "        min = keyin + 1\n",
    "    print(f'您已經猜了{count}次')\n",
    "\n",
    "print(\"遊戲結束\")\n"
   ]
  }
 ],
 "metadata": {
  "kernelspec": {
   "display_name": "Python 3",
   "language": "python",
   "name": "python3"
  },
  "language_info": {
   "codemirror_mode": {
    "name": "ipython",
    "version": 3
   },
   "file_extension": ".py",
   "mimetype": "text/x-python",
   "name": "python",
   "nbconvert_exporter": "python",
   "pygments_lexer": "ipython3",
   "version": "3.10.14"
  }
 },
 "nbformat": 4,
 "nbformat_minor": 2
}
