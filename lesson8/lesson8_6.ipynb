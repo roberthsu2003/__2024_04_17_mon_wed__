{
 "cells": [
  {
   "cell_type": "code",
   "execution_count": 1,
   "metadata": {},
   "outputs": [],
   "source": [
    "def menu(wine:str, entree:str, dessert:str)->None:\n",
    "    print(f\"主餐:{entree}\")\n",
    "    print(f\"酒類:{wine}\")\n",
    "    print(f\"甜點:{dessert}\")"
   ]
  },
  {
   "cell_type": "code",
   "execution_count": 3,
   "metadata": {},
   "outputs": [
    {
     "name": "stdout",
     "output_type": "stream",
     "text": [
      "主餐:牛排\n",
      "酒類:白酒\n",
      "甜點:蛋糕\n",
      "主餐:牛排\n",
      "酒類:紅酒\n",
      "甜點:冰淇淋\n"
     ]
    }
   ],
   "source": [
    "#引數值的呼叫,必需依據參數的順序\n",
    "menu('白酒','牛排','蛋糕')\n",
    "menu('紅酒','牛排','冰淇淋')"
   ]
  },
  {
   "cell_type": "code",
   "execution_count": 5,
   "metadata": {},
   "outputs": [
    {
     "name": "stdout",
     "output_type": "stream",
     "text": [
      "主餐:牛排\n",
      "酒類:白酒\n",
      "甜點:蛋糕\n",
      "===========\n",
      "主餐:牛排\n",
      "酒類:白酒\n",
      "甜點:蛋糕\n"
     ]
    }
   ],
   "source": [
    "def menu(wine:str, entree:str, dessert:str)->None:\n",
    "    print(f\"主餐:{entree}\")\n",
    "    print(f\"酒類:{wine}\")\n",
    "    print(f\"甜點:{dessert}\")\n",
    "\n",
    "#引數名稱的呼叫,可以不依照順序\n",
    "menu(wine='白酒',entree='牛排',dessert='蛋糕')\n",
    "print(\"===========\")\n",
    "menu(entree='牛排',dessert='蛋糕',wine='白酒')"
   ]
  },
  {
   "cell_type": "code",
   "execution_count": 7,
   "metadata": {},
   "outputs": [
    {
     "name": "stdout",
     "output_type": "stream",
     "text": [
      "主餐:牛排\n",
      "酒類:白酒\n",
      "甜點:蛋糕\n",
      "==============\n",
      "主餐:牛排\n",
      "酒類:白酒\n",
      "甜點:蛋糕\n"
     ]
    }
   ],
   "source": [
    "def menu(wine:str, entree:str, dessert:str)->None:\n",
    "    print(f\"主餐:{entree}\")\n",
    "    print(f\"酒類:{wine}\")\n",
    "    print(f\"甜點:{dessert}\")\n",
    "\n",
    "#混合呼叫\n",
    "#引數值呼叫+引數名稱的呼叫\n",
    "#引數值呼叫要依順序,引數名稱呼叫可不依順序\n",
    "menu('白酒',dessert='蛋糕',entree='牛排')\n",
    "print(\"==============\")\n",
    "menu('白酒','牛排',dessert='蛋糕')"
   ]
  }
 ],
 "metadata": {
  "kernelspec": {
   "display_name": "Python 3",
   "language": "python",
   "name": "python3"
  },
  "language_info": {
   "codemirror_mode": {
    "name": "ipython",
    "version": 3
   },
   "file_extension": ".py",
   "mimetype": "text/x-python",
   "name": "python",
   "nbconvert_exporter": "python",
   "pygments_lexer": "ipython3",
   "version": "3.10.14"
  }
 },
 "nbformat": 4,
 "nbformat_minor": 2
}
