{
 "cells": [
  {
   "cell_type": "code",
   "execution_count": 2,
   "metadata": {},
   "outputs": [
    {
     "name": "stdout",
     "output_type": "stream",
     "text": [
      "<class 'int'>\n"
     ]
    }
   ],
   "source": [
    "n = 5\n",
    "print(type(n))"
   ]
  },
  {
   "cell_type": "code",
   "execution_count": 3,
   "metadata": {},
   "outputs": [
    {
     "data": {
      "text/plain": [
       "__main__.Person"
      ]
     },
     "execution_count": 3,
     "metadata": {},
     "output_type": "execute_result"
    }
   ],
   "source": [
    "#自訂的類別\n",
    "class Person():\n",
    "    pass\n",
    "\n",
    "p1 = Person()\n",
    "type(p1)"
   ]
  },
  {
   "cell_type": "code",
   "execution_count": 5,
   "metadata": {},
   "outputs": [
    {
     "name": "stdout",
     "output_type": "stream",
     "text": [
      "p1的name:徐國堂\n",
      "p2的name:徐國堂\n"
     ]
    }
   ],
   "source": [
    "#自訂的attribute,必需有自訂的init\n",
    "\n",
    "class Person():\n",
    "    def __init__(self):\n",
    "        self.name = \"徐國堂\"\n",
    "\n",
    "p1 = Person()\n",
    "print(f'p1的name:{p1.name}')\n",
    "\n",
    "p2 = Person()\n",
    "print(f'p2的name:{p2.name}')"
   ]
  },
  {
   "cell_type": "code",
   "execution_count": 8,
   "metadata": {},
   "outputs": [
    {
     "name": "stdout",
     "output_type": "stream",
     "text": [
      "p1的name:徐國堂\n",
      "p2的name:Robert Hsu\n"
     ]
    }
   ],
   "source": [
    "#自訂的attribute,必需有自訂的init\n",
    "#自訂的init\n",
    "#建立attribute name\n",
    "\n",
    "class Person():\n",
    "    def __init__(self,n:str):\n",
    "        super().__init__()\n",
    "        self.name = n\n",
    "\n",
    "p1 = Person(\"徐國堂\")\n",
    "print(f'p1的name:{p1.name}')\n",
    "\n",
    "p2 = Person(n=\"Robert Hsu\")\n",
    "print(f'p2的name:{p2.name}')"
   ]
  }
 ],
 "metadata": {
  "kernelspec": {
   "display_name": "Python 3",
   "language": "python",
   "name": "python3"
  },
  "language_info": {
   "codemirror_mode": {
    "name": "ipython",
    "version": 3
   },
   "file_extension": ".py",
   "mimetype": "text/x-python",
   "name": "python",
   "nbconvert_exporter": "python",
   "pygments_lexer": "ipython3",
   "version": "3.10.14"
  }
 },
 "nbformat": 4,
 "nbformat_minor": 2
}
