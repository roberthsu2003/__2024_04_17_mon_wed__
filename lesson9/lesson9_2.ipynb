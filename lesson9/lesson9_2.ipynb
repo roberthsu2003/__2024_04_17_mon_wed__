{
 "cells": [
  {
   "cell_type": "code",
   "execution_count": 2,
   "metadata": {},
   "outputs": [
    {
     "name": "stdout",
     "output_type": "stream",
     "text": [
      "您的姓名是:徐國堂\n",
      "國文:86\n",
      "英文:92\n",
      "數學:76\n",
      "\n"
     ]
    }
   ],
   "source": [
    "class Student():\n",
    "    def __init__(self,n:str,c:int,e:int,m:int):\n",
    "        super().__init__()\n",
    "        self.name = n   #attribute\n",
    "        self.chinese = c #attribute\n",
    "        self.english = e #attribute\n",
    "        self.math = m #attribute\n",
    "\n",
    "    def __repr__(self):\n",
    "        message = f\"您的姓名是:{self.name}\\n\"\n",
    "        message += f\"國文:{self.chinese}\\n\"\n",
    "        message += f\"英文:{self.english}\\n\"\n",
    "        message += f\"數學:{self.math}\\n\"\n",
    "        return message\n",
    "\n",
    "s1 = Student(n=\"徐國堂\",c=86,e=92,m=76)\n",
    "print(s1)"
   ]
  },
  {
   "cell_type": "code",
   "execution_count": 4,
   "metadata": {},
   "outputs": [],
   "source": [
    "#property\n",
    "class Student():\n",
    "    def __init__(self,n:str,c:int,e:int,m:int):\n",
    "        super().__init__()\n",
    "        self.name = n   #attribute\n",
    "        self.chinese = c #attribute\n",
    "        self.english = e #attribute\n",
    "        self.math = m #attribute\n",
    "\n",
    "    def __repr__(self):\n",
    "        message = f\"您的姓名是:{self.name}\\n\"\n",
    "        message += f\"國文:{self.chinese}\\n\"\n",
    "        message += f\"英文:{self.english}\\n\"\n",
    "        message += f\"數學:{self.math}\\n\"\n",
    "        return message\n",
    "    \n",
    "    #建立property的語法\n",
    "    @property\n",
    "    def sum(self):\n",
    "        return self.chinese + self.english + self.math\n",
    "\n"
   ]
  },
  {
   "cell_type": "code",
   "execution_count": 5,
   "metadata": {},
   "outputs": [
    {
     "name": "stdout",
     "output_type": "stream",
     "text": [
      "您的姓名是:徐國堂\n",
      "國文:86\n",
      "英文:92\n",
      "數學:76\n",
      "\n",
      "總分為:254\n",
      "=============\n",
      "您的姓名是:Robert Hsu\n",
      "國文:98\n",
      "英文:76\n",
      "數學:67\n",
      "\n",
      "總分為:241\n"
     ]
    }
   ],
   "source": [
    "s1 = Student(n=\"徐國堂\",c=86,e=92,m=76)\n",
    "print(s1)\n",
    "print(f\"總分為:{s1.sum}\")\n",
    "print(\"=============\")\n",
    "s2 = Student(n=\"Robert Hsu\",c=98,e=76,m=67)\n",
    "print(s2)\n",
    "print(f\"總分為:{s2.sum}\")"
   ]
  }
 ],
 "metadata": {
  "kernelspec": {
   "display_name": "Python 3",
   "language": "python",
   "name": "python3"
  },
  "language_info": {
   "codemirror_mode": {
    "name": "ipython",
    "version": 3
   },
   "file_extension": ".py",
   "mimetype": "text/x-python",
   "name": "python",
   "nbconvert_exporter": "python",
   "pygments_lexer": "ipython3",
   "version": "3.10.14"
  }
 },
 "nbformat": 4,
 "nbformat_minor": 2
}
