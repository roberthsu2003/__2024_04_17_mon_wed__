{
 "cells": [
  {
   "cell_type": "code",
   "execution_count": 2,
   "metadata": {},
   "outputs": [
    {
     "name": "stdout",
     "output_type": "stream",
     "text": [
      "您的姓名是:徐國堂\n",
      "國文:86\n",
      "英文:92\n",
      "數學:76\n",
      "\n"
     ]
    }
   ],
   "source": [
    "class Student():\n",
    "    def __init__(self,n:str,c:int,e:int,m:int):\n",
    "        super().__init__()\n",
    "        self.name = n   #attribute\n",
    "        self.chinese = c #attribute\n",
    "        self.english = e #attribute\n",
    "        self.math = m #attribute\n",
    "\n",
    "    def __repr__(self):\n",
    "        message = f\"您的姓名是:{self.name}\\n\"\n",
    "        message += f\"國文:{self.chinese}\\n\"\n",
    "        message += f\"英文:{self.english}\\n\"\n",
    "        message += f\"數學:{self.math}\\n\"\n",
    "        return message\n",
    "\n",
    "s1 = Student(n=\"徐國堂\",c=86,e=92,m=76)\n",
    "print(s1)"
   ]
  }
 ],
 "metadata": {
  "kernelspec": {
   "display_name": "Python 3",
   "language": "python",
   "name": "python3"
  },
  "language_info": {
   "codemirror_mode": {
    "name": "ipython",
    "version": 3
   },
   "file_extension": ".py",
   "mimetype": "text/x-python",
   "name": "python",
   "nbconvert_exporter": "python",
   "pygments_lexer": "ipython3",
   "version": "3.10.14"
  }
 },
 "nbformat": 4,
 "nbformat_minor": 2
}
